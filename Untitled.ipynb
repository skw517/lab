{
 "cells": [
  {
   "cell_type": "code",
   "execution_count": 2,
   "id": "d77e87ea-ba15-4c61-bbde-03573f4b5a99",
   "metadata": {},
   "outputs": [],
   "source": [
    "import numpy as np"
   ]
  },
  {
   "cell_type": "code",
   "execution_count": 3,
   "id": "7ee7af4d-8922-4d68-a0eb-34cef9adb020",
   "metadata": {},
   "outputs": [
    {
     "name": "stdout",
     "output_type": "stream",
     "text": [
      "[[1 2 3]\n",
      " [4 5 6]]\n"
     ]
    }
   ],
   "source": [
    "a1=[[1,2,3],[4,5,6]]\n",
    "b1=np.array(a1)\n",
    "print(b1)"
   ]
  },
  {
   "cell_type": "code",
   "execution_count": 4,
   "id": "bdadb869-077e-406d-8e15-1b147553cc95",
   "metadata": {},
   "outputs": [
    {
     "data": {
      "text/plain": [
       "(2, 3)"
      ]
     },
     "execution_count": 4,
     "metadata": {},
     "output_type": "execute_result"
    }
   ],
   "source": [
    "b1.shape"
   ]
  },
  {
   "cell_type": "code",
   "execution_count": null,
   "id": "4aec8658-fa0c-4052-9907-9ccde28d733f",
   "metadata": {},
   "outputs": [],
   "source": [
    "b"
   ]
  },
  {
   "cell_type": "code",
   "execution_count": 6,
   "id": "683ffc59-b8cf-41eb-85a5-c0e6f0b50d4a",
   "metadata": {},
   "outputs": [
    {
     "name": "stdout",
     "output_type": "stream",
     "text": [
      "[[ 1  2  3  4]\n",
      " [ 5  6  7  8]\n",
      " [ 9 10 11 12]]\n"
     ]
    }
   ],
   "source": [
    "a2=[[1,2,3,4],[5,6,7,8],[9,10,11,12]]\n",
    "b2=np.array(a2)\n",
    "print(b2)"
   ]
  },
  {
   "cell_type": "code",
   "execution_count": 7,
   "id": "6c01f33c-21d8-49f8-865e-4fcdbdf72b92",
   "metadata": {},
   "outputs": [
    {
     "data": {
      "text/plain": [
       "(3, 4)"
      ]
     },
     "execution_count": 7,
     "metadata": {},
     "output_type": "execute_result"
    }
   ],
   "source": [
    "b2.shape"
   ]
  },
  {
   "cell_type": "code",
   "execution_count": 12,
   "id": "5722df3f-b1b5-4674-8b72-52ef46e4b83d",
   "metadata": {},
   "outputs": [],
   "source": [
    "b3=b2.reshape(4,3)"
   ]
  },
  {
   "cell_type": "code",
   "execution_count": 13,
   "id": "37f6023f-deb2-413f-a9c2-f61fbb4afbdf",
   "metadata": {},
   "outputs": [
    {
     "name": "stdout",
     "output_type": "stream",
     "text": [
      "[[ 1  2  3]\n",
      " [ 4  5  6]\n",
      " [ 7  8  9]\n",
      " [10 11 12]]\n"
     ]
    }
   ],
   "source": [
    "print(b3)"
   ]
  },
  {
   "cell_type": "code",
   "execution_count": 14,
   "id": "bf70732a-d443-46c1-bebc-f2dda06044c3",
   "metadata": {},
   "outputs": [
    {
     "data": {
      "text/plain": [
       "array([4, 5, 6])"
      ]
     },
     "execution_count": 14,
     "metadata": {},
     "output_type": "execute_result"
    }
   ],
   "source": [
    "b3[1]"
   ]
  },
  {
   "cell_type": "code",
   "execution_count": 15,
   "id": "c079582c-5b2b-4759-a38c-618b2536f581",
   "metadata": {},
   "outputs": [
    {
     "data": {
      "text/plain": [
       "6"
      ]
     },
     "execution_count": 15,
     "metadata": {},
     "output_type": "execute_result"
    }
   ],
   "source": [
    "b3[1][2]"
   ]
  },
  {
   "cell_type": "code",
   "execution_count": 16,
   "id": "28465e0f-d717-4d9f-83ce-b785b8f048b6",
   "metadata": {},
   "outputs": [
    {
     "data": {
      "text/plain": [
       "array([[4, 5, 6]])"
      ]
     },
     "execution_count": 16,
     "metadata": {},
     "output_type": "execute_result"
    }
   ],
   "source": [
    "b3[1:2]"
   ]
  },
  {
   "cell_type": "code",
   "execution_count": 17,
   "id": "e9966acf-4030-4e10-ace0-5c62f837ae3e",
   "metadata": {},
   "outputs": [
    {
     "data": {
      "text/plain": [
       "6"
      ]
     },
     "execution_count": 17,
     "metadata": {},
     "output_type": "execute_result"
    }
   ],
   "source": [
    "b3[1,2]"
   ]
  },
  {
   "cell_type": "code",
   "execution_count": 18,
   "id": "7fd6c3cd-1cb4-4d26-a74b-992207667752",
   "metadata": {},
   "outputs": [
    {
     "data": {
      "text/plain": [
       "array([6])"
      ]
     },
     "execution_count": 18,
     "metadata": {},
     "output_type": "execute_result"
    }
   ],
   "source": [
    "b3[[1],[2]]"
   ]
  },
  {
   "cell_type": "code",
   "execution_count": 19,
   "id": "723a57d1-163e-43ea-b5e0-da7b3918746e",
   "metadata": {},
   "outputs": [
    {
     "data": {
      "text/plain": [
       "array([ 3,  6,  9, 12])"
      ]
     },
     "execution_count": 19,
     "metadata": {},
     "output_type": "execute_result"
    }
   ],
   "source": [
    "b3[:,2]"
   ]
  },
  {
   "cell_type": "code",
   "execution_count": 20,
   "id": "e31a1ac0-633c-4cab-b9c8-fd514231cef5",
   "metadata": {},
   "outputs": [
    {
     "data": {
      "text/plain": [
       "array([ 6,  9, 12])"
      ]
     },
     "execution_count": 20,
     "metadata": {},
     "output_type": "execute_result"
    }
   ],
   "source": [
    "b3[1:,2]"
   ]
  },
  {
   "cell_type": "code",
   "execution_count": 22,
   "id": "764226d9-3b9c-4695-9a7a-99c605ebd41f",
   "metadata": {},
   "outputs": [
    {
     "name": "stdout",
     "output_type": "stream",
     "text": [
      "11\n"
     ]
    }
   ],
   "source": [
    "print(np.argmax(b3))"
   ]
  },
  {
   "cell_type": "code",
   "execution_count": 25,
   "id": "c6931596-8124-4474-8d7c-01caca1f9dd7",
   "metadata": {},
   "outputs": [
    {
     "name": "stdout",
     "output_type": "stream",
     "text": [
      "[3 3 3]\n"
     ]
    }
   ],
   "source": [
    "print(np.argmax(b3,axis=0))"
   ]
  }
 ],
 "metadata": {
  "kernelspec": {
   "display_name": "Python 3 (ipykernel)",
   "language": "python",
   "name": "python3"
  },
  "language_info": {
   "codemirror_mode": {
    "name": "ipython",
    "version": 3
   },
   "file_extension": ".py",
   "mimetype": "text/x-python",
   "name": "python",
   "nbconvert_exporter": "python",
   "pygments_lexer": "ipython3",
   "version": "3.9.13"
  }
 },
 "nbformat": 4,
 "nbformat_minor": 5
}
